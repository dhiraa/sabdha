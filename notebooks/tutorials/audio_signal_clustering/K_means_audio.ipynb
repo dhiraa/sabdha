{
 "cells": [
  {
   "cell_type": "code",
   "execution_count": 1,
   "metadata": {
    "collapsed": true
   },
   "outputs": [],
   "source": [
    "import tensorflow as tf\n",
    "import numpy as np\n",
    "import pandas as pd\n",
    "from pyAudioAnalysis import audioBasicIO\n",
    "from pyAudioAnalysis import audioFeatureExtraction\n",
    "import matplotlib.pyplot as plt\n",
    "import os\n",
    "from tqdm import tqdm_notebook as tqdm"
   ]
  },
  {
   "cell_type": "markdown",
   "metadata": {},
   "source": [
    "### Audio Features\n",
    "- Zero Cross Rate\n",
    "- Energy\n",
    "- Entropy of Energy\n",
    "- Spectral Centroid\n",
    "- Spectral Spread\n",
    "- Spectral Entropy\n",
    "- Spectral Flux\n",
    "- Spectral Roll off\n",
    "- MFCC\n",
    "- Chroma Vector\n",
    "- Chroma Deviation"
   ]
  },
  {
   "cell_type": "markdown",
   "metadata": {},
   "source": [
    "## Utility function to extract features from wav files\n",
    "\n",
    "* Pre-process data and transform double channel to single channel\n",
    "* Extract the chromagraph  from the audio file\n",
    "* Find note frequency"
   ]
  },
  {
   "cell_type": "code",
   "execution_count": 2,
   "metadata": {
    "collapsed": true
   },
   "outputs": [],
   "source": [
    "# audioFeatureExtraction.stFeatureExtraction?"
   ]
  },
  {
   "cell_type": "code",
   "execution_count": 3,
   "metadata": {
    "collapsed": true
   },
   "outputs": [],
   "source": [
    "def preProcess(fileName):\n",
    "    \n",
    "    # Extracting wav file data\n",
    "    [Fs, x] = audioBasicIO.readAudioFile(fileName); #Fs - Framerate/ sampling frequency in Hz\n",
    "\n",
    "    # If double/stereo channel data then take mean\n",
    "    if( len( x.shape ) > 1 and  x.shape[1] == 2 ):\n",
    "        x = np.mean( x, axis = 1, keepdims = True )\n",
    "    else:\n",
    "        x = x.reshape( x.shape[0], 1 )\n",
    "    \n",
    "    # Extract the raw chromagram data, expected dimention is [ m,  ] not [ m, 1 ]\n",
    "    F, f_names = audioFeatureExtraction.stFeatureExtraction(\n",
    "        x[ :, 0 ], #signal\n",
    "        Fs, #the sampling freq (in Hz)\n",
    "        0.050*Fs, #the short-term window size (in samples)\n",
    "        0.025*Fs #the short-term window step (in samples)\n",
    "    )\n",
    "    \n",
    "    return (f_names, F)"
   ]
  },
  {
   "cell_type": "code",
   "execution_count": 4,
   "metadata": {
    "collapsed": true
   },
   "outputs": [],
   "source": [
    "feature_name, features = preProcess( \"./sample_data_audio/c1_2.wav\" )"
   ]
  },
  {
   "cell_type": "code",
   "execution_count": 5,
   "metadata": {},
   "outputs": [
    {
     "name": "stdout",
     "output_type": "stream",
     "text": [
      "Avalable features:  ['zcr', 'energy', 'energy_entropy', 'spectral_centroid', 'spectral_spread', 'spectral_entropy', 'spectral_flux', 'spectral_rolloff', 'mfcc_1', 'mfcc_2', 'mfcc_3', 'mfcc_4', 'mfcc_5', 'mfcc_6', 'mfcc_7', 'mfcc_8', 'mfcc_9', 'mfcc_10', 'mfcc_11', 'mfcc_12', 'mfcc_13', 'chroma_1', 'chroma_2', 'chroma_3', 'chroma_4', 'chroma_5', 'chroma_6', 'chroma_7', 'chroma_8', 'chroma_9', 'chroma_10', 'chroma_11', 'chroma_12', 'chroma_std']\n",
      "-------------------------------------------------\n",
      "Total features :  34\n",
      "Shapes of features:  (34, 229)\n"
     ]
    }
   ],
   "source": [
    "print(\"Avalable features: \", feature_name)\n",
    "print(\"-------------------------------------------------\")\n",
    "print(\"Total features : \",  len(feature_name))\n",
    "print(\"Shapes of features: \", features.shape)"
   ]
  },
  {
   "cell_type": "markdown",
   "metadata": {},
   "source": [
    "### Chroma Vector\n",
    "It is a representation of how humans relate colors to notes. In other words we think of same notes but from two different octaves to be of the same color. Thus we have 12 possible values at each window. \n",
    "\n",
    "A, A#, B, C, C#, D, D#, E, F, F#, G and G#. \n",
    "\n",
    "\n",
    "Of course they are not mutually exclusive hence for a given time fame one can have more than one note. But to keep things simple we will only select the most prominent note for a particular window. Let us visualize the chroma vector using a chromagram."
   ]
  },
  {
   "cell_type": "code",
   "execution_count": 6,
   "metadata": {},
   "outputs": [
    {
     "name": "stdout",
     "output_type": "stream",
     "text": [
      "Feature 21:  chroma_1\n",
      "Feature 21 shape:  (229,)\n"
     ]
    }
   ],
   "source": [
    "print(\"Feature 21: \", feature_name[21])\n",
    "print(\"Feature 21 shape: \", features[21].shape)"
   ]
  },
  {
   "cell_type": "code",
   "execution_count": 7,
   "metadata": {
    "collapsed": true
   },
   "outputs": [],
   "source": [
    "def getChromagram(audioData):\n",
    "    \n",
    "    # chronograph_1\n",
    "    temp_data =  audioData[21].reshape(1, audioData[21].shape[0])\n",
    "    chronograph = temp_data\n",
    "    \n",
    "    # looping through the next 11 stacking them vertically\n",
    "    for i in range(22, 33): #chroma_1 to chroma_11\n",
    "        temp_data =  audioData[i].reshape(1, audioData[i].shape[0])\n",
    "        chronograph = np.vstack([chronograph, temp_data])\n",
    "    \n",
    "    return chronograph"
   ]
  },
  {
   "cell_type": "code",
   "execution_count": 8,
   "metadata": {},
   "outputs": [
    {
     "data": {
      "text/plain": [
       "(12, 229)"
      ]
     },
     "execution_count": 8,
     "metadata": {},
     "output_type": "execute_result"
    }
   ],
   "source": [
    "chromagram = getChromagram(features)\n",
    "chromagram.shape"
   ]
  },
  {
   "cell_type": "code",
   "execution_count": 9,
   "metadata": {
    "collapsed": true
   },
   "outputs": [],
   "source": [
    "def getNoteFrequency(chromagram):\n",
    "    \n",
    "    # Total number of time frames in the current sample\n",
    "    numberOfWindows = chromagram.shape[1] #12\n",
    "    \n",
    "    # Taking the note with the highest amplitude\n",
    "    freqVal = chromagram.argmax( axis = 0 )\n",
    "    \n",
    "    # Converting the freqVal vs time to freq count\n",
    "    histogram, bin = np.histogram( freqVal, bins = 12 ) \n",
    "    \n",
    "    # Normalizing the distribution by the number of time frames\n",
    "    normalized_hist = histogram.reshape( 1, 12 ).astype( float ) / numberOfWindows\n",
    "    \n",
    "    return normalized_hist"
   ]
  },
  {
   "cell_type": "code",
   "execution_count": 10,
   "metadata": {},
   "outputs": [
    {
     "data": {
      "text/plain": [
       "(1, 12)"
      ]
     },
     "execution_count": 10,
     "metadata": {},
     "output_type": "execute_result"
    }
   ],
   "source": [
    "noteFrequency = getNoteFrequency(chromagram)\n",
    "noteFrequency.shape"
   ]
  },
  {
   "cell_type": "markdown",
   "metadata": {},
   "source": [
    "## Utility function to plot a heat map and frequency of each note"
   ]
  },
  {
   "cell_type": "code",
   "execution_count": 11,
   "metadata": {
    "collapsed": true
   },
   "outputs": [],
   "source": [
    "def plotHeatmap(chromagraph, smallSample = True):\n",
    "    \n",
    "    notesLabels = [\"G#\", \"G\", \"F#\", \"F\", \"E\", \"D#\", \"D\", \"C#\", \"C\", \"B\", \"A#\", \"A\"]\n",
    "    \n",
    "    fig, axis = plt.subplots()\n",
    "    \n",
    "    if smallSample:\n",
    "        im = axis.imshow(chromagram[:, 0 : 25], cmap = \"YlGn\")\n",
    "    else:\n",
    "        im = axis.imshow(chromagram)\n",
    "        \n",
    "    cbar = axis.figure.colorbar(im, ax = axis, cmap = \"YlGn\")\n",
    "    cbar.ax.set_ylabel(\"Amplitude\", rotation=-90, va=\"bottom\")\n",
    "    \n",
    "    axis.set_yticks(np.arange(len(notesLabels)))\n",
    "    axis.set_yticklabels(notesLabels)\n",
    "    \n",
    "    axis.set_title(\"chromagram\")\n",
    "    \n",
    "    fig.tight_layout()\n",
    "    _ = plt.show()"
   ]
  },
  {
   "cell_type": "code",
   "execution_count": 12,
   "metadata": {},
   "outputs": [
    {
     "data": {
      "image/png": "[encoded data removed]",
      "text/plain": [
       "<Figure size 432x288 with 2 Axes>"
      ]
     },
     "metadata": {},
     "output_type": "display_data"
    }
   ],
   "source": [
    "plotHeatmap(chromagram)"
   ]
  },
  {
   "cell_type": "markdown",
   "metadata": {},
   "source": [
    "As we can see, there is indeed more than one note being hit in the same time window."
   ]
  },
  {
   "cell_type": "code",
   "execution_count": 13,
   "metadata": {
    "collapsed": true
   },
   "outputs": [],
   "source": [
    "def noteFrequencyPlot(noteFrequency, smallSample=True):\n",
    "    fig, axis = plt.subplots(1, 1, sharey=True)\n",
    "    axis.plot(np.arange(1, 13), noteFrequency[0, :])\n",
    "    _ = plt.show()"
   ]
  },
  {
   "cell_type": "code",
   "execution_count": 14,
   "metadata": {},
   "outputs": [
    {
     "data": {
      "image/png": "[encoded data removed]",
      "text/plain": [
       "<Figure size 432x288 with 1 Axes>"
      ]
     },
     "metadata": {},
     "output_type": "display_data"
    }
   ],
   "source": [
    "noteFrequencyPlot(noteFrequency)"
   ]
  },
  {
   "cell_type": "markdown",
   "metadata": {},
   "source": [
    "For example in this image, the 12th note was hit the most as compared to other notes. So finally we will be left with a (1x12) vector representing a data point. This will form the basic unit of our data set."
   ]
  },
  {
   "cell_type": "markdown",
   "metadata": {},
   "source": [
    "## Dataset  generator\n",
    "This function iterates over all the available files and converts them into note frequency arrays which is out feature set for each audio file."
   ]
  },
  {
   "cell_type": "code",
   "execution_count": 15,
   "metadata": {
    "collapsed": true
   },
   "outputs": [],
   "source": [
    "fileList = []\n",
    "\n",
    "def getDataset(filePath):\n",
    "    X = pd.DataFrame()\n",
    "    \n",
    "    columns=[\"G#\", \"G\", \"F#\", \"F\", \"E\", \"D#\", \"D\", \"C#\", \"C\", \"B\", \"A#\", \"A\"]\n",
    "    \n",
    "    for root, dirs, filenames in os.walk(filePath):\n",
    "        for file in sorted(filenames):\n",
    "            print(\"Workin on file: \", file)\n",
    "            fileList.append(file)\n",
    "            feature_name, features = preProcess(filePath + file)\n",
    "            chromagram = getChromagram(features)\n",
    "            noteFrequency = getNoteFrequency(chromagram) # 1x12\n",
    "            x_new = pd.Series(noteFrequency[0, :])\n",
    "            X = pd.concat([X, x_new], axis=1) # 12 x 10 ; 10-files\n",
    "\n",
    "    data = X.T.copy() # 10 x 12\n",
    "    data.columns = columns\n",
    "    data.index = [i for i in range(0, data.shape[0])]\n",
    "            \n",
    "    return data"
   ]
  },
  {
   "cell_type": "code",
   "execution_count": 16,
   "metadata": {},
   "outputs": [
    {
     "name": "stdout",
     "output_type": "stream",
     "text": [
      "Workin on file:  c1_1.wav\n",
      "Workin on file:  c1_2.wav\n",
      "Workin on file:  c2_1.wav\n",
      "Workin on file:  c2_2.wav\n",
      "Workin on file:  c2_3.wav\n",
      "Workin on file:  c2_4.wav\n",
      "Workin on file:  c3_1.wav\n",
      "Workin on file:  c3_2.wav\n",
      "Workin on file:  c4_1.wav\n",
      "Workin on file:  c4_2.wav\n"
     ]
    }
   ],
   "source": [
    "data = getDataset(\"./sample_data_audio/\")"
   ]
  },
  {
   "cell_type": "markdown",
   "metadata": {},
   "source": [
    "## A peek into the dataset\n",
    "\n",
    "Each row represents a file and each column represents the frequency distribution of notes\n",
    "\n",
    "In my case, I have 10 files in total."
   ]
  },
  {
   "cell_type": "code",
   "execution_count": 17,
   "metadata": {},
   "outputs": [
    {
     "data": {
      "text/html": [
       "<div>\n",
       "<style scoped>\n",
       "    .dataframe tbody tr th:only-of-type {\n",
       "        vertical-align: middle;\n",
       "    }\n",
       "\n",
       "    .dataframe tbody tr th {\n",
       "        vertical-align: top;\n",
       "    }\n",
       "\n",
       "    .dataframe thead th {\n",
       "        text-align: right;\n",
       "    }\n",
       "</style>\n",
       "<table border=\"1\" class=\"dataframe\">\n",
       "  <thead>\n",
       "    <tr style=\"text-align: right;\">\n",
       "      <th></th>\n",
       "      <th>G#</th>\n",
       "      <th>G</th>\n",
       "      <th>F#</th>\n",
       "      <th>F</th>\n",
       "      <th>E</th>\n",
       "      <th>D#</th>\n",
       "      <th>D</th>\n",
       "      <th>C#</th>\n",
       "      <th>C</th>\n",
       "      <th>B</th>\n",
       "      <th>A#</th>\n",
       "      <th>A</th>\n",
       "    </tr>\n",
       "  </thead>\n",
       "  <tbody>\n",
       "    <tr>\n",
       "      <th>0</th>\n",
       "      <td>0.097561</td>\n",
       "      <td>0.0</td>\n",
       "      <td>0.0</td>\n",
       "      <td>0.000000</td>\n",
       "      <td>0.0</td>\n",
       "      <td>0.0</td>\n",
       "      <td>0.000000</td>\n",
       "      <td>0.0</td>\n",
       "      <td>0.0</td>\n",
       "      <td>0.0</td>\n",
       "      <td>0.0</td>\n",
       "      <td>0.902439</td>\n",
       "    </tr>\n",
       "    <tr>\n",
       "      <th>1</th>\n",
       "      <td>0.021834</td>\n",
       "      <td>0.0</td>\n",
       "      <td>0.0</td>\n",
       "      <td>0.000000</td>\n",
       "      <td>0.0</td>\n",
       "      <td>0.0</td>\n",
       "      <td>0.000000</td>\n",
       "      <td>0.0</td>\n",
       "      <td>0.0</td>\n",
       "      <td>0.0</td>\n",
       "      <td>0.0</td>\n",
       "      <td>0.978166</td>\n",
       "    </tr>\n",
       "    <tr>\n",
       "      <th>2</th>\n",
       "      <td>0.000000</td>\n",
       "      <td>0.0</td>\n",
       "      <td>0.0</td>\n",
       "      <td>0.000000</td>\n",
       "      <td>0.0</td>\n",
       "      <td>0.0</td>\n",
       "      <td>1.000000</td>\n",
       "      <td>0.0</td>\n",
       "      <td>0.0</td>\n",
       "      <td>0.0</td>\n",
       "      <td>0.0</td>\n",
       "      <td>0.000000</td>\n",
       "    </tr>\n",
       "    <tr>\n",
       "      <th>3</th>\n",
       "      <td>0.015385</td>\n",
       "      <td>0.0</td>\n",
       "      <td>0.0</td>\n",
       "      <td>0.000000</td>\n",
       "      <td>0.0</td>\n",
       "      <td>0.0</td>\n",
       "      <td>0.000000</td>\n",
       "      <td>0.0</td>\n",
       "      <td>0.0</td>\n",
       "      <td>0.0</td>\n",
       "      <td>0.0</td>\n",
       "      <td>0.984615</td>\n",
       "    </tr>\n",
       "    <tr>\n",
       "      <th>4</th>\n",
       "      <td>0.027027</td>\n",
       "      <td>0.0</td>\n",
       "      <td>0.0</td>\n",
       "      <td>0.000000</td>\n",
       "      <td>0.0</td>\n",
       "      <td>0.0</td>\n",
       "      <td>0.000000</td>\n",
       "      <td>0.0</td>\n",
       "      <td>0.0</td>\n",
       "      <td>0.0</td>\n",
       "      <td>0.0</td>\n",
       "      <td>0.972973</td>\n",
       "    </tr>\n",
       "    <tr>\n",
       "      <th>5</th>\n",
       "      <td>0.000000</td>\n",
       "      <td>0.0</td>\n",
       "      <td>0.0</td>\n",
       "      <td>0.000000</td>\n",
       "      <td>0.0</td>\n",
       "      <td>0.0</td>\n",
       "      <td>1.000000</td>\n",
       "      <td>0.0</td>\n",
       "      <td>0.0</td>\n",
       "      <td>0.0</td>\n",
       "      <td>0.0</td>\n",
       "      <td>0.000000</td>\n",
       "    </tr>\n",
       "    <tr>\n",
       "      <th>6</th>\n",
       "      <td>0.000000</td>\n",
       "      <td>0.0</td>\n",
       "      <td>0.0</td>\n",
       "      <td>0.000000</td>\n",
       "      <td>0.0</td>\n",
       "      <td>0.0</td>\n",
       "      <td>1.000000</td>\n",
       "      <td>0.0</td>\n",
       "      <td>0.0</td>\n",
       "      <td>0.0</td>\n",
       "      <td>0.0</td>\n",
       "      <td>0.000000</td>\n",
       "    </tr>\n",
       "    <tr>\n",
       "      <th>7</th>\n",
       "      <td>0.090909</td>\n",
       "      <td>0.0</td>\n",
       "      <td>0.0</td>\n",
       "      <td>0.090909</td>\n",
       "      <td>0.0</td>\n",
       "      <td>0.0</td>\n",
       "      <td>0.545455</td>\n",
       "      <td>0.0</td>\n",
       "      <td>0.0</td>\n",
       "      <td>0.0</td>\n",
       "      <td>0.0</td>\n",
       "      <td>0.272727</td>\n",
       "    </tr>\n",
       "    <tr>\n",
       "      <th>8</th>\n",
       "      <td>0.991713</td>\n",
       "      <td>0.0</td>\n",
       "      <td>0.0</td>\n",
       "      <td>0.000000</td>\n",
       "      <td>0.0</td>\n",
       "      <td>0.0</td>\n",
       "      <td>0.000000</td>\n",
       "      <td>0.0</td>\n",
       "      <td>0.0</td>\n",
       "      <td>0.0</td>\n",
       "      <td>0.0</td>\n",
       "      <td>0.008287</td>\n",
       "    </tr>\n",
       "    <tr>\n",
       "      <th>9</th>\n",
       "      <td>0.000000</td>\n",
       "      <td>0.0</td>\n",
       "      <td>0.0</td>\n",
       "      <td>0.000000</td>\n",
       "      <td>0.0</td>\n",
       "      <td>0.0</td>\n",
       "      <td>1.000000</td>\n",
       "      <td>0.0</td>\n",
       "      <td>0.0</td>\n",
       "      <td>0.0</td>\n",
       "      <td>0.0</td>\n",
       "      <td>0.000000</td>\n",
       "    </tr>\n",
       "  </tbody>\n",
       "</table>\n",
       "</div>"
      ],
      "text/plain": [
       "         G#    G   F#         F    E   D#         D   C#    C    B   A#  \\\n",
       "0  0.097561  0.0  0.0  0.000000  0.0  0.0  0.000000  0.0  0.0  0.0  0.0   \n",
       "1  0.021834  0.0  0.0  0.000000  0.0  0.0  0.000000  0.0  0.0  0.0  0.0   \n",
       "2  0.000000  0.0  0.0  0.000000  0.0  0.0  1.000000  0.0  0.0  0.0  0.0   \n",
       "3  0.015385  0.0  0.0  0.000000  0.0  0.0  0.000000  0.0  0.0  0.0  0.0   \n",
       "4  0.027027  0.0  0.0  0.000000  0.0  0.0  0.000000  0.0  0.0  0.0  0.0   \n",
       "5  0.000000  0.0  0.0  0.000000  0.0  0.0  1.000000  0.0  0.0  0.0  0.0   \n",
       "6  0.000000  0.0  0.0  0.000000  0.0  0.0  1.000000  0.0  0.0  0.0  0.0   \n",
       "7  0.090909  0.0  0.0  0.090909  0.0  0.0  0.545455  0.0  0.0  0.0  0.0   \n",
       "8  0.991713  0.0  0.0  0.000000  0.0  0.0  0.000000  0.0  0.0  0.0  0.0   \n",
       "9  0.000000  0.0  0.0  0.000000  0.0  0.0  1.000000  0.0  0.0  0.0  0.0   \n",
       "\n",
       "          A  \n",
       "0  0.902439  \n",
       "1  0.978166  \n",
       "2  0.000000  \n",
       "3  0.984615  \n",
       "4  0.972973  \n",
       "5  0.000000  \n",
       "6  0.000000  \n",
       "7  0.272727  \n",
       "8  0.008287  \n",
       "9  0.000000  "
      ]
     },
     "execution_count": 17,
     "metadata": {},
     "output_type": "execute_result"
    }
   ],
   "source": [
    "data"
   ]
  },
  {
   "cell_type": "markdown",
   "metadata": {},
   "source": [
    "## K-means explanation\n",
    "\n",
    "The algorithm in itself is pretty simple:\n",
    "\n",
    "1. Initialize all k centroids.\n",
    "2. Loop step 3 and 4 for given number of epochs\n",
    "3. Label the data-points with the closest centroid.\n",
    "4. Recalculate the centroids by taking the mean of all the data-sets with same labels.    \n",
    "    \n",
    "$$\n",
    "p = a_1i + b_1j + ... + l_1t \\\\\n",
    "q = a_2i + b_2j + ... + l_2t \\\\\n",
    "distance(p,q) = \\sqrt{(a_1-a_2)^2 + (b_1-b_2)^2 + ... + (l_1-l_2)^2}\n",
    "$$\n",
    "\n",
    "\n",
    "Now to visualize what K-means is doing in each iteration, let us consider the data set to be 2D. Let k = 3.   \n",
    "The algorithm first initializes 3 random centroids.    \n",
    "Now the training loop starts and for each iteration, it paints each point in the data set with the color of the centroid that is closest (least distance) to it.   \n",
    "When that is done, new centroids are calculated by taking the mean of the points with the same color. This animation shows the algorithm at work.  \n",
    "\n",
    "\n",
    "![](kmeans.gif)\n",
    "\n"
   ]
  },
  {
   "cell_type": "markdown",
   "metadata": {},
   "source": [
    "### Hyper-parameters"
   ]
  },
  {
   "cell_type": "code",
   "execution_count": 18,
   "metadata": {
    "collapsed": true
   },
   "outputs": [],
   "source": [
    "# Number of cluster we wish to divide the data into( user tunable )\n",
    "k = 4\n",
    "\n",
    "# Max number of allowed iterations for the algorithm( user tunable )\n",
    "epochs = 2000"
   ]
  },
  {
   "cell_type": "markdown",
   "metadata": {},
   "source": [
    "### K-means utility functions"
   ]
  },
  {
   "cell_type": "code",
   "execution_count": 19,
   "metadata": {
    "collapsed": true
   },
   "outputs": [],
   "source": [
    "def initilizeCentroids(data, k):\n",
    "    '''\n",
    "    Initilize cluster centroids( assuming random k data points to be centroid return them )\n",
    "    Given data and k, return the first k data points and these k points will act as initial centroids.\n",
    "    '''\n",
    "    centroids = data[:k] #this supposed to be random points, for simplicity we taking from data. If you get Nan go for random!\n",
    "#     centroids = np.random.rand(k, data.shape[1]) #again when I triwe get NaN still, so I soted the files such that we have some good initial points\n",
    "    return centroids"
   ]
  },
  {
   "cell_type": "code",
   "execution_count": 20,
   "metadata": {},
   "outputs": [
    {
     "data": {
      "text/html": [
       "<div>\n",
       "<style scoped>\n",
       "    .dataframe tbody tr th:only-of-type {\n",
       "        vertical-align: middle;\n",
       "    }\n",
       "\n",
       "    .dataframe tbody tr th {\n",
       "        vertical-align: top;\n",
       "    }\n",
       "\n",
       "    .dataframe thead th {\n",
       "        text-align: right;\n",
       "    }\n",
       "</style>\n",
       "<table border=\"1\" class=\"dataframe\">\n",
       "  <thead>\n",
       "    <tr style=\"text-align: right;\">\n",
       "      <th></th>\n",
       "      <th>G#</th>\n",
       "      <th>G</th>\n",
       "      <th>F#</th>\n",
       "      <th>F</th>\n",
       "      <th>E</th>\n",
       "      <th>D#</th>\n",
       "      <th>D</th>\n",
       "      <th>C#</th>\n",
       "      <th>C</th>\n",
       "      <th>B</th>\n",
       "      <th>A#</th>\n",
       "      <th>A</th>\n",
       "    </tr>\n",
       "  </thead>\n",
       "  <tbody>\n",
       "    <tr>\n",
       "      <th>0</th>\n",
       "      <td>0.097561</td>\n",
       "      <td>0.0</td>\n",
       "      <td>0.0</td>\n",
       "      <td>0.0</td>\n",
       "      <td>0.0</td>\n",
       "      <td>0.0</td>\n",
       "      <td>0.0</td>\n",
       "      <td>0.0</td>\n",
       "      <td>0.0</td>\n",
       "      <td>0.0</td>\n",
       "      <td>0.0</td>\n",
       "      <td>0.902439</td>\n",
       "    </tr>\n",
       "    <tr>\n",
       "      <th>1</th>\n",
       "      <td>0.021834</td>\n",
       "      <td>0.0</td>\n",
       "      <td>0.0</td>\n",
       "      <td>0.0</td>\n",
       "      <td>0.0</td>\n",
       "      <td>0.0</td>\n",
       "      <td>0.0</td>\n",
       "      <td>0.0</td>\n",
       "      <td>0.0</td>\n",
       "      <td>0.0</td>\n",
       "      <td>0.0</td>\n",
       "      <td>0.978166</td>\n",
       "    </tr>\n",
       "    <tr>\n",
       "      <th>2</th>\n",
       "      <td>0.000000</td>\n",
       "      <td>0.0</td>\n",
       "      <td>0.0</td>\n",
       "      <td>0.0</td>\n",
       "      <td>0.0</td>\n",
       "      <td>0.0</td>\n",
       "      <td>1.0</td>\n",
       "      <td>0.0</td>\n",
       "      <td>0.0</td>\n",
       "      <td>0.0</td>\n",
       "      <td>0.0</td>\n",
       "      <td>0.000000</td>\n",
       "    </tr>\n",
       "    <tr>\n",
       "      <th>3</th>\n",
       "      <td>0.015385</td>\n",
       "      <td>0.0</td>\n",
       "      <td>0.0</td>\n",
       "      <td>0.0</td>\n",
       "      <td>0.0</td>\n",
       "      <td>0.0</td>\n",
       "      <td>0.0</td>\n",
       "      <td>0.0</td>\n",
       "      <td>0.0</td>\n",
       "      <td>0.0</td>\n",
       "      <td>0.0</td>\n",
       "      <td>0.984615</td>\n",
       "    </tr>\n",
       "  </tbody>\n",
       "</table>\n",
       "</div>"
      ],
      "text/plain": [
       "         G#    G   F#    F    E   D#    D   C#    C    B   A#         A\n",
       "0  0.097561  0.0  0.0  0.0  0.0  0.0  0.0  0.0  0.0  0.0  0.0  0.902439\n",
       "1  0.021834  0.0  0.0  0.0  0.0  0.0  0.0  0.0  0.0  0.0  0.0  0.978166\n",
       "2  0.000000  0.0  0.0  0.0  0.0  0.0  1.0  0.0  0.0  0.0  0.0  0.000000\n",
       "3  0.015385  0.0  0.0  0.0  0.0  0.0  0.0  0.0  0.0  0.0  0.0  0.984615"
      ]
     },
     "execution_count": 20,
     "metadata": {},
     "output_type": "execute_result"
    }
   ],
   "source": [
    "centroids = initilizeCentroids(data, k)\n",
    "centroids"
   ]
  },
  {
   "cell_type": "code",
   "execution_count": 21,
   "metadata": {},
   "outputs": [
    {
     "name": "stdout",
     "output_type": "stream",
     "text": [
      "Tensor(\"ExpandDims:0\", shape=(1, 10, 12), dtype=float32)\n",
      "Tensor(\"ExpandDims_1:0\", shape=(4, 1, 12), dtype=float32)\n"
     ]
    }
   ],
   "source": [
    "X = tf.placeholder(dtype=tf.float32, shape=data.shape) # 10x12\n",
    "C = tf.placeholder(dtype=tf.float32, shape=(k,data.shape[1])) # kx12\n",
    "C_labels = tf.placeholder(dtype=tf.int32) # \n",
    "\n",
    "# utility to assign centroids to examples\n",
    "# https://www.coursera.org/lecture/neural-networks-deep-learning/broadcasting-in-python-uBuTv\n",
    "expanded_vectors = tf.expand_dims(X, 0) # 1X10x12\n",
    "expanded_centroids = tf.expand_dims(C, 1) # kx1x12\n",
    "\n",
    "print(expanded_vectors)\n",
    "print(expanded_centroids)"
   ]
  },
  {
   "cell_type": "markdown",
   "metadata": {},
   "source": [
    "$$\n",
    "p = a_1i + b_1j + ... + l_1t \\\\\n",
    "q = a_2i + b_2j + ... + l_2t \\\\\n",
    "distance(p,q) = \\sqrt{(a_1-a_2)^2 + (b_1-b_2)^2 + ... + (l_1-l_2)^2}\n",
    "$$\n",
    "\n",
    "\n",
    "We wish to subtract each data point with each centroid to find the distance between them, then select the centroid that gave the least distance for each data point.\n",
    "\n",
    "Thus we will do (Kx10) distance calculations, and for each calculation, we will process 12 features for each vector.    \n",
    "Notice that the 3rd dimension is same for both — 12. Thus each data point is copied K times in the 1st dimension, and each centroid is copied 19 times in the 2nd dimension.    \n",
    "Thus subtracting the two on axis=2, will give us (Kx10) elements each having 12 features in the 3rd dimension."
   ]
  },
  {
   "cell_type": "code",
   "execution_count": 22,
   "metadata": {
    "collapsed": true
   },
   "outputs": [],
   "source": [
    "distance = tf.reduce_sum(tf.square(tf.subtract(expanded_vectors, expanded_centroids)), axis = 2) # kx10\n",
    "getCentroidsOp = tf.argmin(distance, 0)"
   ]
  },
  {
   "cell_type": "code",
   "execution_count": 23,
   "metadata": {},
   "outputs": [
    {
     "name": "stdout",
     "output_type": "stream",
     "text": [
      "Tensor(\"Sum:0\", shape=(4, 10), dtype=float32)\n",
      "Tensor(\"ArgMin:0\", shape=(10,), dtype=int64)\n"
     ]
    }
   ],
   "source": [
    "print(distance)\n",
    "print(getCentroidsOp)"
   ]
  },
  {
   "cell_type": "markdown",
   "metadata": {},
   "source": [
    "https://www.tensorflow.org/api_docs/python/tf/math/unsorted_segment_sum\n"
   ]
  },
  {
   "cell_type": "code",
   "execution_count": 24,
   "metadata": {
    "collapsed": true
   },
   "outputs": [],
   "source": [
    "# utility to recalculate centroids\n",
    "# This adds up the feature vectors of the data points with same label id. Will end up giving K feature vectors.\n",
    "sums = tf.unsorted_segment_sum(X, C_labels, k) # K\n",
    " # This will do the same thing as the above step but instead of adding the feature vectors of data points, we add ones. \n",
    "#This will be used to take the mean of the K feature vectors generated in the above step finally giving us the new centroids.\n",
    "counts = tf.unsorted_segment_sum(tf.ones_like(X), C_labels, k )\n",
    "# Dividing the two tensors to generate the new centroids.\n",
    "reCalculateCentroidsOp = tf.divide(sums,  counts)"
   ]
  },
  {
   "cell_type": "code",
   "execution_count": 25,
   "metadata": {},
   "outputs": [
    {
     "name": "stdout",
     "output_type": "stream",
     "text": [
      "Tensor(\"UnsortedSegmentSum:0\", dtype=float32)\n",
      "Tensor(\"UnsortedSegmentSum_1:0\", dtype=float32)\n",
      "Tensor(\"truediv:0\", dtype=float32)\n"
     ]
    }
   ],
   "source": [
    "print(sums)\n",
    "print(counts)\n",
    "print(reCalculateCentroidsOp)"
   ]
  },
  {
   "cell_type": "markdown",
   "metadata": {},
   "source": [
    "### Driver function"
   ]
  },
  {
   "cell_type": "code",
   "execution_count": 26,
   "metadata": {},
   "outputs": [
    {
     "data": {
      "application/vnd.jupyter.widget-view+json": {
       "model_id": "f8f3f2bf13994efe93ae082749970566",
       "version_major": 2,
       "version_minor": 0
      },
      "text/html": [
       "<p>Failed to display Jupyter Widget of type <code>HBox</code>.</p>\n",
       "<p>\n",
       "  If you're reading this message in the Jupyter Notebook or JupyterLab Notebook, it may mean\n",
       "  that the widgets JavaScript is still loading. If this message persists, it\n",
       "  likely means that the widgets JavaScript library is either not installed or\n",
       "  not enabled. See the <a href=\"https://ipywidgets.readthedocs.io/en/stable/user_install.html\">Jupyter\n",
       "  Widgets Documentation</a> for setup instructions.\n",
       "</p>\n",
       "<p>\n",
       "  If you're reading this message in another frontend (for example, a static\n",
       "  rendering on GitHub or <a href=\"https://nbviewer.jupyter.org/\">NBViewer</a>),\n",
       "  it may mean that your frontend doesn't currently support widgets.\n",
       "</p>\n"
      ],
      "text/plain": [
       "HBox(children=(IntProgress(value=0, max=2000), HTML(value='')))"
      ]
     },
     "metadata": {},
     "output_type": "display_data"
    },
    {
     "name": "stdout",
     "output_type": "stream",
     "text": [
      "\n",
      "[1 3 2 3 3 2 2 2 0 2]\n",
      "------------------------\n",
      "[[0.9917127  0.         0.         0.         0.         0.\n",
      "  0.         0.         0.         0.         0.         0.00828729]\n",
      " [0.09756097 0.         0.         0.         0.         0.\n",
      "  0.         0.         0.         0.         0.         0.902439  ]\n",
      " [0.01818182 0.         0.         0.01818182 0.         0.\n",
      "  0.9090909  0.         0.         0.         0.         0.05454545]\n",
      " [0.02141523 0.         0.         0.         0.         0.\n",
      "  0.         0.         0.         0.         0.         0.97858477]]\n"
     ]
    }
   ],
   "source": [
    "centroids = []\n",
    "data_labels = []\n",
    "\n",
    "with tf.Session() as sess:\n",
    "    \n",
    "    # Initilize all tensor flow variables\n",
    "    sess.run(tf.global_variables_initializer())\n",
    "    \n",
    "    # Get initial list of k centroids\n",
    "    centroids = initilizeCentroids(data, k)\n",
    "    \n",
    "    for epoch in tqdm(range(epochs)):\n",
    "        data_labels =  sess.run(getCentroidsOp, feed_dict={X:data, C:centroids})\n",
    "        centroids = sess.run( reCalculateCentroidsOp, feed_dict={X:data, C_labels:data_labels})\n",
    "    \n",
    "print(data_labels)\n",
    "print(\"------------------------\")\n",
    "print(centroids)"
   ]
  },
  {
   "cell_type": "code",
   "execution_count": 27,
   "metadata": {},
   "outputs": [
    {
     "data": {
      "text/html": [
       "<div>\n",
       "<style scoped>\n",
       "    .dataframe tbody tr th:only-of-type {\n",
       "        vertical-align: middle;\n",
       "    }\n",
       "\n",
       "    .dataframe tbody tr th {\n",
       "        vertical-align: top;\n",
       "    }\n",
       "\n",
       "    .dataframe thead th {\n",
       "        text-align: right;\n",
       "    }\n",
       "</style>\n",
       "<table border=\"1\" class=\"dataframe\">\n",
       "  <thead>\n",
       "    <tr style=\"text-align: right;\">\n",
       "      <th></th>\n",
       "      <th>Labels</th>\n",
       "      <th>File Names</th>\n",
       "    </tr>\n",
       "  </thead>\n",
       "  <tbody>\n",
       "    <tr>\n",
       "      <th>0</th>\n",
       "      <td>1</td>\n",
       "      <td>c1_1.wav</td>\n",
       "    </tr>\n",
       "    <tr>\n",
       "      <th>1</th>\n",
       "      <td>3</td>\n",
       "      <td>c1_2.wav</td>\n",
       "    </tr>\n",
       "    <tr>\n",
       "      <th>2</th>\n",
       "      <td>2</td>\n",
       "      <td>c2_1.wav</td>\n",
       "    </tr>\n",
       "    <tr>\n",
       "      <th>3</th>\n",
       "      <td>3</td>\n",
       "      <td>c2_2.wav</td>\n",
       "    </tr>\n",
       "    <tr>\n",
       "      <th>4</th>\n",
       "      <td>3</td>\n",
       "      <td>c2_3.wav</td>\n",
       "    </tr>\n",
       "    <tr>\n",
       "      <th>5</th>\n",
       "      <td>2</td>\n",
       "      <td>c2_4.wav</td>\n",
       "    </tr>\n",
       "    <tr>\n",
       "      <th>6</th>\n",
       "      <td>2</td>\n",
       "      <td>c3_1.wav</td>\n",
       "    </tr>\n",
       "    <tr>\n",
       "      <th>7</th>\n",
       "      <td>2</td>\n",
       "      <td>c3_2.wav</td>\n",
       "    </tr>\n",
       "    <tr>\n",
       "      <th>8</th>\n",
       "      <td>0</td>\n",
       "      <td>c4_1.wav</td>\n",
       "    </tr>\n",
       "    <tr>\n",
       "      <th>9</th>\n",
       "      <td>2</td>\n",
       "      <td>c4_2.wav</td>\n",
       "    </tr>\n",
       "  </tbody>\n",
       "</table>\n",
       "</div>"
      ],
      "text/plain": [
       "   Labels File Names\n",
       "0       1   c1_1.wav\n",
       "1       3   c1_2.wav\n",
       "2       2   c2_1.wav\n",
       "3       3   c2_2.wav\n",
       "4       3   c2_3.wav\n",
       "5       2   c2_4.wav\n",
       "6       2   c3_1.wav\n",
       "7       2   c3_2.wav\n",
       "8       0   c4_1.wav\n",
       "9       2   c4_2.wav"
      ]
     },
     "execution_count": 27,
     "metadata": {},
     "output_type": "execute_result"
    }
   ],
   "source": [
    "final_labels = pd.DataFrame( { \"Labels\": data_labels, \"File Names\": fileList } )\n",
    "final_labels"
   ]
  },
  {
   "cell_type": "markdown",
   "metadata": {
    "collapsed": true
   },
   "source": [
    "**References**\n",
    "- https://medium.com/heuristics/audio-signal-feature-extraction-and-clustering-935319d2225"
   ]
  },
  {
   "cell_type": "code",
   "execution_count": null,
   "metadata": {
    "collapsed": true
   },
   "outputs": [],
   "source": []
  }
 ],
 "metadata": {
  "kernelspec": {
   "display_name": "Python 3",
   "language": "python",
   "name": "python3"
  },
  "language_info": {
   "codemirror_mode": {
    "name": "ipython",
    "version": 3
   },
   "file_extension": ".py",
   "mimetype": "text/x-python",
   "name": "python",
   "nbconvert_exporter": "python",
   "pygments_lexer": "ipython3",
   "version": "3.6.1"
  }
 },
 "nbformat": 4,
 "nbformat_minor": 2
}
